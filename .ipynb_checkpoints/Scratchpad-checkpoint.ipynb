{
 "cells": [
  {
   "cell_type": "code",
   "execution_count": 1,
   "id": "fddb81c9",
   "metadata": {},
   "outputs": [],
   "source": [
    "import numpy as np"
   ]
  },
  {
   "cell_type": "code",
   "execution_count": 34,
   "id": "61094534",
   "metadata": {},
   "outputs": [],
   "source": [
    "def Standardize(X):\n",
    "    return (X-np.mean(X, axis=0))/np.var(X, axis=0)"
   ]
  },
  {
   "cell_type": "code",
   "execution_count": 28,
   "id": "791916c4",
   "metadata": {},
   "outputs": [],
   "source": [
    "X = np.array([[0, 1, 3, 4, 3], [3, 2, 3, 5, 9]]).T"
   ]
  },
  {
   "cell_type": "code",
   "execution_count": 29,
   "id": "0534c3c0",
   "metadata": {},
   "outputs": [
    {
     "data": {
      "text/plain": [
       "array([[0, 3],\n",
       "       [1, 2],\n",
       "       [3, 3],\n",
       "       [4, 5],\n",
       "       [3, 9]])"
      ]
     },
     "execution_count": 29,
     "metadata": {},
     "output_type": "execute_result"
    }
   ],
   "source": [
    "Standardize(X)"
   ]
  },
  {
   "cell_type": "code",
   "execution_count": 33,
   "id": "697183c1",
   "metadata": {},
   "outputs": [
    {
     "data": {
      "text/plain": [
       "array([[-1.01851852, -0.22435897],\n",
       "       [-0.55555556, -0.38461538],\n",
       "       [ 0.37037037, -0.22435897],\n",
       "       [ 0.83333333,  0.09615385],\n",
       "       [ 0.37037037,  0.73717949]])"
      ]
     },
     "execution_count": 33,
     "metadata": {},
     "output_type": "execute_result"
    }
   ],
   "source": [
    "(X-np.mean(X, axis=0))/np.var(X, axis=0)"
   ]
  },
  {
   "cell_type": "code",
   "execution_count": 31,
   "id": "55ccccb9",
   "metadata": {},
   "outputs": [
    {
     "data": {
      "text/plain": [
       "array([2.16, 6.24])"
      ]
     },
     "execution_count": 31,
     "metadata": {},
     "output_type": "execute_result"
    }
   ],
   "source": [
    "np.var(X, axis=0)"
   ]
  },
  {
   "cell_type": "code",
   "execution_count": 32,
   "id": "9cd2e92a",
   "metadata": {},
   "outputs": [
    {
     "data": {
      "text/plain": [
       "array([0, 1, 3, 4, 3])"
      ]
     },
     "execution_count": 32,
     "metadata": {},
     "output_type": "execute_result"
    }
   ],
   "source": [
    "X[:,0]"
   ]
  },
  {
   "cell_type": "code",
   "execution_count": 40,
   "id": "d660d019",
   "metadata": {},
   "outputs": [
    {
     "ename": "SyntaxError",
     "evalue": "invalid syntax (2899501087.py, line 5)",
     "output_type": "error",
     "traceback": [
      "\u001b[0;36m  File \u001b[0;32m\"/var/folders/5d/6bww2f2j7tv53nxs73lm9w9m0000gn/T/ipykernel_3396/2899501087.py\"\u001b[0;36m, line \u001b[0;32m5\u001b[0m\n\u001b[0;31m    if\u001b[0m\n\u001b[0m       ^\u001b[0m\n\u001b[0;31mSyntaxError\u001b[0m\u001b[0;31m:\u001b[0m invalid syntax\n"
     ]
    }
   ],
   "source": [
    "# Print out 10 times\n",
    "iterations = 1000\n",
    "\n",
    "for i in range(iterations):\n",
    "    if \n",
    "        print i \n",
    "\n"
   ]
  },
  {
   "cell_type": "code",
   "execution_count": 38,
   "id": "9bf016ad",
   "metadata": {},
   "outputs": [
    {
     "data": {
      "text/plain": [
       "0"
      ]
     },
     "execution_count": 38,
     "metadata": {},
     "output_type": "execute_result"
    }
   ],
   "source": [
    "iterations = 1000\n",
    "iterations / 10\n",
    "100%10"
   ]
  },
  {
   "cell_type": "code",
   "execution_count": 41,
   "id": "7a948b1a",
   "metadata": {},
   "outputs": [
    {
     "ename": "NameError",
     "evalue": "name 'iterations' is not defined",
     "output_type": "error",
     "traceback": [
      "\u001b[0;31m---------------------------------------------------------------------------\u001b[0m",
      "\u001b[0;31mNameError\u001b[0m                                 Traceback (most recent call last)",
      "\u001b[0;32m/var/folders/5d/6bww2f2j7tv53nxs73lm9w9m0000gn/T/ipykernel_3396/639954636.py\u001b[0m in \u001b[0;36m<module>\u001b[0;34m\u001b[0m\n\u001b[1;32m      1\u001b[0m \u001b[0;31m# first get the right multiple\u001b[0m\u001b[0;34m\u001b[0m\u001b[0;34m\u001b[0m\u001b[0m\n\u001b[0;32m----> 2\u001b[0;31m \u001b[0miterations\u001b[0m\u001b[0;34m/\u001b[0m\u001b[0;36m10\u001b[0m\u001b[0;34m\u001b[0m\u001b[0;34m\u001b[0m\u001b[0m\n\u001b[0m",
      "\u001b[0;31mNameError\u001b[0m: name 'iterations' is not defined"
     ]
    }
   ],
   "source": [
    "# first get the right multiple\n",
    "≈\n"
   ]
  },
  {
   "cell_type": "code",
   "execution_count": null,
   "id": "33964658",
   "metadata": {},
   "outputs": [],
   "source": []
  }
 ],
 "metadata": {
  "kernelspec": {
   "display_name": "Python 3 (ipykernel)",
   "language": "python",
   "name": "python3"
  },
  "language_info": {
   "codemirror_mode": {
    "name": "ipython",
    "version": 3
   },
   "file_extension": ".py",
   "mimetype": "text/x-python",
   "name": "python",
   "nbconvert_exporter": "python",
   "pygments_lexer": "ipython3",
   "version": "3.9.7"
  }
 },
 "nbformat": 4,
 "nbformat_minor": 5
}
